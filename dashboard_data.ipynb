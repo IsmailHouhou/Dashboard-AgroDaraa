{
 "cells": [
  {
   "cell_type": "code",
   "execution_count": 2,
   "metadata": {},
   "outputs": [],
   "source": [
    "import pandas as pd\n",
    "import plotly.express as px\n",
    "import plotly.graph_objects as go\n",
    "import dash\n",
    "from dash import dcc\n",
    "from dash import html"
   ]
  },
  {
   "cell_type": "code",
   "execution_count": 3,
   "metadata": {},
   "outputs": [],
   "source": [
    "weather_data = pd.read_csv('weatherHistory.csv')"
   ]
  },
  {
   "cell_type": "code",
   "execution_count": 4,
   "metadata": {},
   "outputs": [
    {
     "data": {
      "text/html": [
       "<div>\n",
       "<style scoped>\n",
       "    .dataframe tbody tr th:only-of-type {\n",
       "        vertical-align: middle;\n",
       "    }\n",
       "\n",
       "    .dataframe tbody tr th {\n",
       "        vertical-align: top;\n",
       "    }\n",
       "\n",
       "    .dataframe thead th {\n",
       "        text-align: right;\n",
       "    }\n",
       "</style>\n",
       "<table border=\"1\" class=\"dataframe\">\n",
       "  <thead>\n",
       "    <tr style=\"text-align: right;\">\n",
       "      <th></th>\n",
       "      <th>Formatted Date</th>\n",
       "      <th>Summary</th>\n",
       "      <th>Precip Type</th>\n",
       "      <th>Temperature (C)</th>\n",
       "      <th>Apparent Temperature (C)</th>\n",
       "      <th>Humidity</th>\n",
       "      <th>Wind Speed (km/h)</th>\n",
       "      <th>Wind Bearing (degrees)</th>\n",
       "      <th>Visibility (km)</th>\n",
       "      <th>Loud Cover</th>\n",
       "      <th>Pressure (millibars)</th>\n",
       "      <th>Daily Summary</th>\n",
       "    </tr>\n",
       "  </thead>\n",
       "  <tbody>\n",
       "    <tr>\n",
       "      <th>0</th>\n",
       "      <td>2006-04-01 00:00:00.000 +0200</td>\n",
       "      <td>Partly Cloudy</td>\n",
       "      <td>rain</td>\n",
       "      <td>9.472222</td>\n",
       "      <td>7.388889</td>\n",
       "      <td>0.89</td>\n",
       "      <td>14.1197</td>\n",
       "      <td>251.0</td>\n",
       "      <td>15.8263</td>\n",
       "      <td>0.0</td>\n",
       "      <td>1015.13</td>\n",
       "      <td>Partly cloudy throughout the day.</td>\n",
       "    </tr>\n",
       "    <tr>\n",
       "      <th>1</th>\n",
       "      <td>2006-04-01 01:00:00.000 +0200</td>\n",
       "      <td>Partly Cloudy</td>\n",
       "      <td>rain</td>\n",
       "      <td>9.355556</td>\n",
       "      <td>7.227778</td>\n",
       "      <td>0.86</td>\n",
       "      <td>14.2646</td>\n",
       "      <td>259.0</td>\n",
       "      <td>15.8263</td>\n",
       "      <td>0.0</td>\n",
       "      <td>1015.63</td>\n",
       "      <td>Partly cloudy throughout the day.</td>\n",
       "    </tr>\n",
       "    <tr>\n",
       "      <th>2</th>\n",
       "      <td>2006-04-01 02:00:00.000 +0200</td>\n",
       "      <td>Mostly Cloudy</td>\n",
       "      <td>rain</td>\n",
       "      <td>9.377778</td>\n",
       "      <td>9.377778</td>\n",
       "      <td>0.89</td>\n",
       "      <td>3.9284</td>\n",
       "      <td>204.0</td>\n",
       "      <td>14.9569</td>\n",
       "      <td>0.0</td>\n",
       "      <td>1015.94</td>\n",
       "      <td>Partly cloudy throughout the day.</td>\n",
       "    </tr>\n",
       "    <tr>\n",
       "      <th>3</th>\n",
       "      <td>2006-04-01 03:00:00.000 +0200</td>\n",
       "      <td>Partly Cloudy</td>\n",
       "      <td>rain</td>\n",
       "      <td>8.288889</td>\n",
       "      <td>5.944444</td>\n",
       "      <td>0.83</td>\n",
       "      <td>14.1036</td>\n",
       "      <td>269.0</td>\n",
       "      <td>15.8263</td>\n",
       "      <td>0.0</td>\n",
       "      <td>1016.41</td>\n",
       "      <td>Partly cloudy throughout the day.</td>\n",
       "    </tr>\n",
       "    <tr>\n",
       "      <th>4</th>\n",
       "      <td>2006-04-01 04:00:00.000 +0200</td>\n",
       "      <td>Mostly Cloudy</td>\n",
       "      <td>rain</td>\n",
       "      <td>8.755556</td>\n",
       "      <td>6.977778</td>\n",
       "      <td>0.83</td>\n",
       "      <td>11.0446</td>\n",
       "      <td>259.0</td>\n",
       "      <td>15.8263</td>\n",
       "      <td>0.0</td>\n",
       "      <td>1016.51</td>\n",
       "      <td>Partly cloudy throughout the day.</td>\n",
       "    </tr>\n",
       "  </tbody>\n",
       "</table>\n",
       "</div>"
      ],
      "text/plain": [
       "                  Formatted Date        Summary Precip Type  Temperature (C)  \\\n",
       "0  2006-04-01 00:00:00.000 +0200  Partly Cloudy        rain         9.472222   \n",
       "1  2006-04-01 01:00:00.000 +0200  Partly Cloudy        rain         9.355556   \n",
       "2  2006-04-01 02:00:00.000 +0200  Mostly Cloudy        rain         9.377778   \n",
       "3  2006-04-01 03:00:00.000 +0200  Partly Cloudy        rain         8.288889   \n",
       "4  2006-04-01 04:00:00.000 +0200  Mostly Cloudy        rain         8.755556   \n",
       "\n",
       "   Apparent Temperature (C)  Humidity  Wind Speed (km/h)  \\\n",
       "0                  7.388889      0.89            14.1197   \n",
       "1                  7.227778      0.86            14.2646   \n",
       "2                  9.377778      0.89             3.9284   \n",
       "3                  5.944444      0.83            14.1036   \n",
       "4                  6.977778      0.83            11.0446   \n",
       "\n",
       "   Wind Bearing (degrees)  Visibility (km)  Loud Cover  Pressure (millibars)  \\\n",
       "0                   251.0          15.8263         0.0               1015.13   \n",
       "1                   259.0          15.8263         0.0               1015.63   \n",
       "2                   204.0          14.9569         0.0               1015.94   \n",
       "3                   269.0          15.8263         0.0               1016.41   \n",
       "4                   259.0          15.8263         0.0               1016.51   \n",
       "\n",
       "                       Daily Summary  \n",
       "0  Partly cloudy throughout the day.  \n",
       "1  Partly cloudy throughout the day.  \n",
       "2  Partly cloudy throughout the day.  \n",
       "3  Partly cloudy throughout the day.  \n",
       "4  Partly cloudy throughout the day.  "
      ]
     },
     "execution_count": 4,
     "metadata": {},
     "output_type": "execute_result"
    }
   ],
   "source": [
    "weather_data.head()"
   ]
  },
  {
   "cell_type": "code",
   "execution_count": 17,
   "metadata": {},
   "outputs": [
    {
     "data": {
      "text/plain": [
       "'9.47'"
      ]
     },
     "execution_count": 17,
     "metadata": {},
     "output_type": "execute_result"
    }
   ],
   "source": [
    "'{:.2f}'.format(weather_data['Temperature (C)'][0])"
   ]
  },
  {
   "cell_type": "code",
   "execution_count": 18,
   "metadata": {},
   "outputs": [
    {
     "data": {
      "text/plain": [
       "9.47"
      ]
     },
     "execution_count": 18,
     "metadata": {},
     "output_type": "execute_result"
    }
   ],
   "source": [
    "round(weather_data['Temperature (C)'][0], 2)"
   ]
  },
  {
   "cell_type": "code",
   "execution_count": 6,
   "metadata": {},
   "outputs": [
    {
     "name": "stdout",
     "output_type": "stream",
     "text": [
      "<class 'pandas.core.frame.DataFrame'>\n",
      "RangeIndex: 96453 entries, 0 to 96452\n",
      "Data columns (total 12 columns):\n",
      " #   Column                    Non-Null Count  Dtype  \n",
      "---  ------                    --------------  -----  \n",
      " 0   Formatted Date            96453 non-null  object \n",
      " 1   Summary                   96453 non-null  object \n",
      " 2   Precip Type               95936 non-null  object \n",
      " 3   Temperature (C)           96453 non-null  float64\n",
      " 4   Apparent Temperature (C)  96453 non-null  float64\n",
      " 5   Humidity                  96453 non-null  float64\n",
      " 6   Wind Speed (km/h)         96453 non-null  float64\n",
      " 7   Wind Bearing (degrees)    96453 non-null  float64\n",
      " 8   Visibility (km)           96453 non-null  float64\n",
      " 9   Loud Cover                96453 non-null  float64\n",
      " 10  Pressure (millibars)      96453 non-null  float64\n",
      " 11  Daily Summary             96453 non-null  object \n",
      "dtypes: float64(8), object(4)\n",
      "memory usage: 8.8+ MB\n"
     ]
    }
   ],
   "source": [
    "weather_data.info()"
   ]
  },
  {
   "cell_type": "code",
   "execution_count": 7,
   "metadata": {},
   "outputs": [],
   "source": [
    "weather_data['Formatted Date'] = pd.to_datetime(weather_data['Formatted Date'].str[:-10])\n"
   ]
  },
  {
   "cell_type": "code",
   "execution_count": 8,
   "metadata": {},
   "outputs": [],
   "source": [
    "# type(weather_data['Formatted Date'])"
   ]
  },
  {
   "cell_type": "code",
   "execution_count": 9,
   "metadata": {},
   "outputs": [],
   "source": [
    "# weather_data.set_index('Formatted Date')"
   ]
  },
  {
   "cell_type": "code",
   "execution_count": 10,
   "metadata": {},
   "outputs": [],
   "source": [
    "weather_data = weather_data.set_index('Formatted Date')"
   ]
  },
  {
   "cell_type": "code",
   "execution_count": 11,
   "metadata": {},
   "outputs": [
    {
     "name": "stderr",
     "output_type": "stream",
     "text": [
      "C:\\Users\\Sammy\\AppData\\Local\\Temp\\ipykernel_2352\\994440711.py:1: FutureWarning: The default value of numeric_only in DataFrameGroupBy.mean is deprecated. In a future version, numeric_only will default to False. Either specify numeric_only or select only columns which should be valid for the function.\n",
      "  hourly_summary = weather_data.resample('H').mean()\n",
      "C:\\Users\\Sammy\\AppData\\Local\\Temp\\ipykernel_2352\\994440711.py:2: FutureWarning: The default value of numeric_only in DataFrameGroupBy.mean is deprecated. In a future version, numeric_only will default to False. Either specify numeric_only or select only columns which should be valid for the function.\n",
      "  daily_summary = weather_data.resample('D').mean()\n",
      "C:\\Users\\Sammy\\AppData\\Local\\Temp\\ipykernel_2352\\994440711.py:3: FutureWarning: The default value of numeric_only in DataFrameGroupBy.mean is deprecated. In a future version, numeric_only will default to False. Either specify numeric_only or select only columns which should be valid for the function.\n",
      "  weekly_summary = weather_data.resample('W').mean()\n"
     ]
    },
    {
     "data": {
      "text/html": [
       "<div>\n",
       "<style scoped>\n",
       "    .dataframe tbody tr th:only-of-type {\n",
       "        vertical-align: middle;\n",
       "    }\n",
       "\n",
       "    .dataframe tbody tr th {\n",
       "        vertical-align: top;\n",
       "    }\n",
       "\n",
       "    .dataframe thead th {\n",
       "        text-align: right;\n",
       "    }\n",
       "</style>\n",
       "<table border=\"1\" class=\"dataframe\">\n",
       "  <thead>\n",
       "    <tr style=\"text-align: right;\">\n",
       "      <th></th>\n",
       "      <th>Temperature (C)</th>\n",
       "      <th>Apparent Temperature (C)</th>\n",
       "      <th>Humidity</th>\n",
       "      <th>Wind Speed (km/h)</th>\n",
       "      <th>Wind Bearing (degrees)</th>\n",
       "      <th>Visibility (km)</th>\n",
       "      <th>Loud Cover</th>\n",
       "      <th>Pressure (millibars)</th>\n",
       "    </tr>\n",
       "    <tr>\n",
       "      <th>Formatted Date</th>\n",
       "      <th></th>\n",
       "      <th></th>\n",
       "      <th></th>\n",
       "      <th></th>\n",
       "      <th></th>\n",
       "      <th></th>\n",
       "      <th></th>\n",
       "      <th></th>\n",
       "    </tr>\n",
       "  </thead>\n",
       "  <tbody>\n",
       "    <tr>\n",
       "      <th>2006-01-01</th>\n",
       "      <td>3.873148</td>\n",
       "      <td>-0.447222</td>\n",
       "      <td>0.818333</td>\n",
       "      <td>21.372750</td>\n",
       "      <td>142.041667</td>\n",
       "      <td>11.112354</td>\n",
       "      <td>0.0</td>\n",
       "      <td>1012.279167</td>\n",
       "    </tr>\n",
       "    <tr>\n",
       "      <th>2006-01-08</th>\n",
       "      <td>2.169544</td>\n",
       "      <td>0.020370</td>\n",
       "      <td>0.906905</td>\n",
       "      <td>9.245617</td>\n",
       "      <td>152.773810</td>\n",
       "      <td>6.933733</td>\n",
       "      <td>0.0</td>\n",
       "      <td>1005.348512</td>\n",
       "    </tr>\n",
       "    <tr>\n",
       "      <th>2006-01-15</th>\n",
       "      <td>-1.236607</td>\n",
       "      <td>-2.664187</td>\n",
       "      <td>0.867083</td>\n",
       "      <td>5.631742</td>\n",
       "      <td>185.517857</td>\n",
       "      <td>5.744442</td>\n",
       "      <td>0.0</td>\n",
       "      <td>1022.843810</td>\n",
       "    </tr>\n",
       "    <tr>\n",
       "      <th>2006-01-22</th>\n",
       "      <td>-1.530489</td>\n",
       "      <td>-4.797454</td>\n",
       "      <td>0.848214</td>\n",
       "      <td>11.499233</td>\n",
       "      <td>199.285714</td>\n",
       "      <td>9.210254</td>\n",
       "      <td>0.0</td>\n",
       "      <td>1022.210060</td>\n",
       "    </tr>\n",
       "    <tr>\n",
       "      <th>2006-01-29</th>\n",
       "      <td>-7.157507</td>\n",
       "      <td>-10.160615</td>\n",
       "      <td>0.719524</td>\n",
       "      <td>7.934233</td>\n",
       "      <td>92.339286</td>\n",
       "      <td>9.837867</td>\n",
       "      <td>0.0</td>\n",
       "      <td>1034.089048</td>\n",
       "    </tr>\n",
       "  </tbody>\n",
       "</table>\n",
       "</div>"
      ],
      "text/plain": [
       "                Temperature (C)  Apparent Temperature (C)  Humidity  \\\n",
       "Formatted Date                                                        \n",
       "2006-01-01             3.873148                 -0.447222  0.818333   \n",
       "2006-01-08             2.169544                  0.020370  0.906905   \n",
       "2006-01-15            -1.236607                 -2.664187  0.867083   \n",
       "2006-01-22            -1.530489                 -4.797454  0.848214   \n",
       "2006-01-29            -7.157507                -10.160615  0.719524   \n",
       "\n",
       "                Wind Speed (km/h)  Wind Bearing (degrees)  Visibility (km)  \\\n",
       "Formatted Date                                                               \n",
       "2006-01-01              21.372750              142.041667        11.112354   \n",
       "2006-01-08               9.245617              152.773810         6.933733   \n",
       "2006-01-15               5.631742              185.517857         5.744442   \n",
       "2006-01-22              11.499233              199.285714         9.210254   \n",
       "2006-01-29               7.934233               92.339286         9.837867   \n",
       "\n",
       "                Loud Cover  Pressure (millibars)  \n",
       "Formatted Date                                    \n",
       "2006-01-01             0.0           1012.279167  \n",
       "2006-01-08             0.0           1005.348512  \n",
       "2006-01-15             0.0           1022.843810  \n",
       "2006-01-22             0.0           1022.210060  \n",
       "2006-01-29             0.0           1034.089048  "
      ]
     },
     "execution_count": 11,
     "metadata": {},
     "output_type": "execute_result"
    }
   ],
   "source": [
    "hourly_summary = weather_data.resample('H').mean()\n",
    "daily_summary = weather_data.resample('D').mean()\n",
    "weekly_summary = weather_data.resample('W').mean()\n",
    "weekly_summary.head()"
   ]
  },
  {
   "cell_type": "code",
   "execution_count": 12,
   "metadata": {},
   "outputs": [],
   "source": [
    "# weather_data.loc['2006-01-01']"
   ]
  },
  {
   "cell_type": "code",
   "execution_count": 13,
   "metadata": {},
   "outputs": [],
   "source": [
    "# print(weather_data[weather_data['Formatted Date'] > '2016-12-31']['Formatted Date'].max())\n",
    "# print(weather_data[weather_data['Formatted Date'] > '2016-12-31']['Formatted Date'].min())"
   ]
  },
  {
   "cell_type": "code",
   "execution_count": 14,
   "metadata": {},
   "outputs": [],
   "source": [
    "# weather_data_last_year = weather_data[weather_data.index > '2015-12-31']"
   ]
  },
  {
   "cell_type": "code",
   "execution_count": 15,
   "metadata": {},
   "outputs": [],
   "source": [
    "# weather_data_last_year = weather_data_last_year.sort_values(by='Formatted Date', ascending=False)"
   ]
  },
  {
   "cell_type": "code",
   "execution_count": 16,
   "metadata": {},
   "outputs": [
    {
     "ename": "KeyboardInterrupt",
     "evalue": "",
     "output_type": "error",
     "traceback": [
      "\u001b[1;31m---------------------------------------------------------------------------\u001b[0m",
      "\u001b[1;31mKeyboardInterrupt\u001b[0m                         Traceback (most recent call last)",
      "\u001b[1;32mc:\\Users\\Sammy\\Desktop\\AGRO DARAA\\Dashboard\\dashboard_data.ipynb Cellule 15\u001b[0m in \u001b[0;36m<cell line: 1>\u001b[1;34m()\u001b[0m\n\u001b[1;32m----> <a href='vscode-notebook-cell:/c%3A/Users/Sammy/Desktop/AGRO%20DARAA/Dashboard/dashboard_data.ipynb#X20sZmlsZQ%3D%3D?line=0'>1</a>\u001b[0m px\u001b[39m.\u001b[39;49mline(data_frame\u001b[39m=\u001b[39;49mweekly_summary, x\u001b[39m=\u001b[39;49mweekly_summary\u001b[39m.\u001b[39;49mindex, y\u001b[39m=\u001b[39;49m\u001b[39m'\u001b[39;49m\u001b[39mTemperature (C)\u001b[39;49m\u001b[39m'\u001b[39;49m)\n",
      "File \u001b[1;32mc:\\Users\\Sammy\\anaconda3\\envs\\env_dash_1_0\\lib\\site-packages\\plotly\\express\\_chart_types.py:264\u001b[0m, in \u001b[0;36mline\u001b[1;34m(data_frame, x, y, line_group, color, line_dash, symbol, hover_name, hover_data, custom_data, text, facet_row, facet_col, facet_col_wrap, facet_row_spacing, facet_col_spacing, error_x, error_x_minus, error_y, error_y_minus, animation_frame, animation_group, category_orders, labels, orientation, color_discrete_sequence, color_discrete_map, line_dash_sequence, line_dash_map, symbol_sequence, symbol_map, markers, log_x, log_y, range_x, range_y, line_shape, render_mode, title, template, width, height)\u001b[0m\n\u001b[0;32m    216\u001b[0m \u001b[39mdef\u001b[39;00m \u001b[39mline\u001b[39m(\n\u001b[0;32m    217\u001b[0m     data_frame\u001b[39m=\u001b[39m\u001b[39mNone\u001b[39;00m,\n\u001b[0;32m    218\u001b[0m     x\u001b[39m=\u001b[39m\u001b[39mNone\u001b[39;00m,\n\u001b[1;32m   (...)\u001b[0m\n\u001b[0;32m    258\u001b[0m     height\u001b[39m=\u001b[39m\u001b[39mNone\u001b[39;00m,\n\u001b[0;32m    259\u001b[0m ) \u001b[39m-\u001b[39m\u001b[39m>\u001b[39m go\u001b[39m.\u001b[39mFigure:\n\u001b[0;32m    260\u001b[0m     \u001b[39m\"\"\"\u001b[39;00m\n\u001b[0;32m    261\u001b[0m \u001b[39m    In a 2D line plot, each row of `data_frame` is represented as vertex of\u001b[39;00m\n\u001b[0;32m    262\u001b[0m \u001b[39m    a polyline mark in 2D space.\u001b[39;00m\n\u001b[0;32m    263\u001b[0m \u001b[39m    \"\"\"\u001b[39;00m\n\u001b[1;32m--> 264\u001b[0m     \u001b[39mreturn\u001b[39;00m make_figure(args\u001b[39m=\u001b[39;49m\u001b[39mlocals\u001b[39;49m(), constructor\u001b[39m=\u001b[39;49mgo\u001b[39m.\u001b[39;49mScatter)\n",
      "File \u001b[1;32mc:\\Users\\Sammy\\anaconda3\\envs\\env_dash_1_0\\lib\\site-packages\\plotly\\express\\_core.py:2226\u001b[0m, in \u001b[0;36mmake_figure\u001b[1;34m(args, constructor, trace_patch, layout_patch)\u001b[0m\n\u001b[0;32m   2223\u001b[0m \u001b[39mif\u001b[39;00m args\u001b[39m.\u001b[39mget(\u001b[39m\"\u001b[39m\u001b[39mmarginal_y\u001b[39m\u001b[39m\"\u001b[39m) \u001b[39mis\u001b[39;00m \u001b[39mnot\u001b[39;00m \u001b[39mNone\u001b[39;00m:\n\u001b[0;32m   2224\u001b[0m     ncols \u001b[39m+\u001b[39m\u001b[39m=\u001b[39m \u001b[39m1\u001b[39m\n\u001b[1;32m-> 2226\u001b[0m fig \u001b[39m=\u001b[39m init_figure(\n\u001b[0;32m   2227\u001b[0m     args, subplot_type, frame_list, nrows, ncols, col_labels, row_labels\n\u001b[0;32m   2228\u001b[0m )\n\u001b[0;32m   2230\u001b[0m \u001b[39m# Position traces in subplots\u001b[39;00m\n\u001b[0;32m   2231\u001b[0m \u001b[39mfor\u001b[39;00m frame \u001b[39min\u001b[39;00m frame_list:\n",
      "File \u001b[1;32mc:\\Users\\Sammy\\anaconda3\\envs\\env_dash_1_0\\lib\\site-packages\\plotly\\express\\_core.py:2353\u001b[0m, in \u001b[0;36minit_figure\u001b[1;34m(args, subplot_type, frame_list, nrows, ncols, col_labels, row_labels)\u001b[0m\n\u001b[0;32m   2351\u001b[0m \u001b[39m# Create figure with subplots\u001b[39;00m\n\u001b[0;32m   2352\u001b[0m \u001b[39mtry\u001b[39;00m:\n\u001b[1;32m-> 2353\u001b[0m     fig \u001b[39m=\u001b[39m make_subplots(\n\u001b[0;32m   2354\u001b[0m         rows\u001b[39m=\u001b[39;49mnrows,\n\u001b[0;32m   2355\u001b[0m         cols\u001b[39m=\u001b[39;49mncols,\n\u001b[0;32m   2356\u001b[0m         specs\u001b[39m=\u001b[39;49mspecs,\n\u001b[0;32m   2357\u001b[0m         shared_xaxes\u001b[39m=\u001b[39;49m\u001b[39m\"\u001b[39;49m\u001b[39mall\u001b[39;49m\u001b[39m\"\u001b[39;49m,\n\u001b[0;32m   2358\u001b[0m         shared_yaxes\u001b[39m=\u001b[39;49m\u001b[39m\"\u001b[39;49m\u001b[39mall\u001b[39;49m\u001b[39m\"\u001b[39;49m,\n\u001b[0;32m   2359\u001b[0m         row_titles\u001b[39m=\u001b[39;49m[] \u001b[39mif\u001b[39;49;00m facet_col_wrap \u001b[39melse\u001b[39;49;00m \u001b[39mlist\u001b[39;49m(\u001b[39mreversed\u001b[39;49m(row_labels)),\n\u001b[0;32m   2360\u001b[0m         column_titles\u001b[39m=\u001b[39;49m[] \u001b[39mif\u001b[39;49;00m facet_col_wrap \u001b[39melse\u001b[39;49;00m col_labels,\n\u001b[0;32m   2361\u001b[0m         subplot_titles\u001b[39m=\u001b[39;49msubplot_labels \u001b[39mif\u001b[39;49;00m facet_col_wrap \u001b[39melse\u001b[39;49;00m [],\n\u001b[0;32m   2362\u001b[0m         horizontal_spacing\u001b[39m=\u001b[39;49mhorizontal_spacing,\n\u001b[0;32m   2363\u001b[0m         vertical_spacing\u001b[39m=\u001b[39;49mvertical_spacing,\n\u001b[0;32m   2364\u001b[0m         row_heights\u001b[39m=\u001b[39;49mrow_heights,\n\u001b[0;32m   2365\u001b[0m         column_widths\u001b[39m=\u001b[39;49mcolumn_widths,\n\u001b[0;32m   2366\u001b[0m         start_cell\u001b[39m=\u001b[39;49m\u001b[39m\"\u001b[39;49m\u001b[39mbottom-left\u001b[39;49m\u001b[39m\"\u001b[39;49m,\n\u001b[0;32m   2367\u001b[0m     )\n\u001b[0;32m   2368\u001b[0m \u001b[39mexcept\u001b[39;00m \u001b[39mValueError\u001b[39;00m \u001b[39mas\u001b[39;00m e:\n\u001b[0;32m   2369\u001b[0m     _spacing_error_translator(e, \u001b[39m\"\u001b[39m\u001b[39mHorizontal\u001b[39m\u001b[39m\"\u001b[39m, \u001b[39m\"\u001b[39m\u001b[39mfacet_col_spacing\u001b[39m\u001b[39m\"\u001b[39m)\n",
      "File \u001b[1;32mc:\\Users\\Sammy\\anaconda3\\envs\\env_dash_1_0\\lib\\site-packages\\plotly\\_subplots.py:844\u001b[0m, in \u001b[0;36mmake_subplots\u001b[1;34m(rows, cols, shared_xaxes, shared_yaxes, start_cell, print_grid, horizontal_spacing, vertical_spacing, subplot_titles, column_widths, row_heights, specs, insets, column_titles, row_titles, x_title, y_title, figure, **kwargs)\u001b[0m\n\u001b[0;32m    842\u001b[0m \u001b[39m# Build resulting figure\u001b[39;00m\n\u001b[0;32m    843\u001b[0m \u001b[39mif\u001b[39;00m figure \u001b[39mis\u001b[39;00m \u001b[39mNone\u001b[39;00m:\n\u001b[1;32m--> 844\u001b[0m     figure \u001b[39m=\u001b[39m go\u001b[39m.\u001b[39;49mFigure()\n\u001b[0;32m    845\u001b[0m figure\u001b[39m.\u001b[39mupdate_layout(layout)\n\u001b[0;32m    847\u001b[0m \u001b[39m# Attach subplot grid info to the figure\u001b[39;00m\n",
      "File \u001b[1;32mc:\\Users\\Sammy\\anaconda3\\envs\\env_dash_1_0\\lib\\site-packages\\plotly\\graph_objs\\_figure.py:610\u001b[0m, in \u001b[0;36mFigure.__init__\u001b[1;34m(self, data, layout, frames, skip_invalid, **kwargs)\u001b[0m\n\u001b[0;32m      5\u001b[0m \u001b[39mdef\u001b[39;00m \u001b[39m__init__\u001b[39m(\n\u001b[0;32m      6\u001b[0m     \u001b[39mself\u001b[39m, data\u001b[39m=\u001b[39m\u001b[39mNone\u001b[39;00m, layout\u001b[39m=\u001b[39m\u001b[39mNone\u001b[39;00m, frames\u001b[39m=\u001b[39m\u001b[39mNone\u001b[39;00m, skip_invalid\u001b[39m=\u001b[39m\u001b[39mFalse\u001b[39;00m, \u001b[39m*\u001b[39m\u001b[39m*\u001b[39mkwargs\n\u001b[0;32m      7\u001b[0m ):\n\u001b[0;32m      8\u001b[0m     \u001b[39m\"\"\"\u001b[39;00m\n\u001b[0;32m      9\u001b[0m \u001b[39m    Create a new :class:Figure instance\u001b[39;00m\n\u001b[0;32m     10\u001b[0m \n\u001b[1;32m   (...)\u001b[0m\n\u001b[0;32m    608\u001b[0m \u001b[39m        is invalid AND skip_invalid is False\u001b[39;00m\n\u001b[0;32m    609\u001b[0m \u001b[39m    \"\"\"\u001b[39;00m\n\u001b[1;32m--> 610\u001b[0m     \u001b[39msuper\u001b[39m(Figure, \u001b[39mself\u001b[39m)\u001b[39m.\u001b[39m\u001b[39m__init__\u001b[39m(data, layout, frames, skip_invalid, \u001b[39m*\u001b[39m\u001b[39m*\u001b[39mkwargs)\n",
      "File \u001b[1;32mc:\\Users\\Sammy\\anaconda3\\envs\\env_dash_1_0\\lib\\site-packages\\plotly\\basedatatypes.py:579\u001b[0m, in \u001b[0;36mBaseFigure.__init__\u001b[1;34m(self, data, layout_plotly, frames, skip_invalid, **kwargs)\u001b[0m\n\u001b[0;32m    569\u001b[0m \u001b[39mself\u001b[39m\u001b[39m.\u001b[39m_layout_obj\u001b[39m.\u001b[39m_parent \u001b[39m=\u001b[39m \u001b[39mself\u001b[39m\n\u001b[0;32m    571\u001b[0m \u001b[39m# Config\u001b[39;00m\n\u001b[0;32m    572\u001b[0m \u001b[39m# ------\u001b[39;00m\n\u001b[0;32m    573\u001b[0m \u001b[39m# Pass along default config to the front end. For now this just\u001b[39;00m\n\u001b[1;32m   (...)\u001b[0m\n\u001b[0;32m    577\u001b[0m \u001b[39m# this will require a fair amount of testing to determine which\u001b[39;00m\n\u001b[0;32m    578\u001b[0m \u001b[39m# options are compatible with FigureWidget.\u001b[39;00m\n\u001b[1;32m--> 579\u001b[0m \u001b[39mfrom\u001b[39;00m \u001b[39mplotly\u001b[39;00m\u001b[39m.\u001b[39;00m\u001b[39moffline\u001b[39;00m\u001b[39m.\u001b[39;00m\u001b[39moffline\u001b[39;00m \u001b[39mimport\u001b[39;00m _get_jconfig\n\u001b[0;32m    581\u001b[0m \u001b[39mself\u001b[39m\u001b[39m.\u001b[39m_config \u001b[39m=\u001b[39m _get_jconfig(\u001b[39mNone\u001b[39;00m)\n\u001b[0;32m    583\u001b[0m \u001b[39m# Frames\u001b[39;00m\n\u001b[0;32m    584\u001b[0m \u001b[39m# ------\u001b[39;00m\n\u001b[0;32m    585\u001b[0m \n\u001b[0;32m    586\u001b[0m \u001b[39m# ### Construct frames validator ###\u001b[39;00m\n\u001b[0;32m    587\u001b[0m \u001b[39m# This is the validator that handles importing sequences of frame\u001b[39;00m\n\u001b[0;32m    588\u001b[0m \u001b[39m# objects\u001b[39;00m\n",
      "File \u001b[1;32mc:\\Users\\Sammy\\anaconda3\\envs\\env_dash_1_0\\lib\\site-packages\\plotly\\offline\\__init__.py:6\u001b[0m, in \u001b[0;36m<module>\u001b[1;34m\u001b[0m\n\u001b[0;32m      1\u001b[0m \u001b[39m\"\"\"\u001b[39;00m\n\u001b[0;32m      2\u001b[0m \u001b[39moffline\u001b[39;00m\n\u001b[0;32m      3\u001b[0m \u001b[39m======\u001b[39;00m\n\u001b[0;32m      4\u001b[0m \u001b[39mThis module provides offline functionality.\u001b[39;00m\n\u001b[0;32m      5\u001b[0m \u001b[39m\"\"\"\u001b[39;00m\n\u001b[1;32m----> 6\u001b[0m \u001b[39mfrom\u001b[39;00m \u001b[39m.\u001b[39;00m\u001b[39moffline\u001b[39;00m \u001b[39mimport\u001b[39;00m (\n\u001b[0;32m      7\u001b[0m     download_plotlyjs,\n\u001b[0;32m      8\u001b[0m     get_plotlyjs_version,\n\u001b[0;32m      9\u001b[0m     get_plotlyjs,\n\u001b[0;32m     10\u001b[0m     enable_mpl_offline,\n\u001b[0;32m     11\u001b[0m     init_notebook_mode,\n\u001b[0;32m     12\u001b[0m     iplot,\n\u001b[0;32m     13\u001b[0m     iplot_mpl,\n\u001b[0;32m     14\u001b[0m     plot,\n\u001b[0;32m     15\u001b[0m     plot_mpl,\n\u001b[0;32m     16\u001b[0m )\n",
      "File \u001b[1;32mc:\\Users\\Sammy\\anaconda3\\envs\\env_dash_1_0\\lib\\site-packages\\plotly\\offline\\offline.py:12\u001b[0m, in \u001b[0;36m<module>\u001b[1;34m\u001b[0m\n\u001b[0;32m     10\u001b[0m \u001b[39mimport\u001b[39;00m \u001b[39mpkgutil\u001b[39;00m\n\u001b[0;32m     11\u001b[0m \u001b[39mimport\u001b[39;00m \u001b[39mplotly\u001b[39;00m\n\u001b[1;32m---> 12\u001b[0m \u001b[39mimport\u001b[39;00m \u001b[39mplotly\u001b[39;00m\u001b[39m.\u001b[39;00m\u001b[39mtools\u001b[39;00m\n\u001b[0;32m     14\u001b[0m \u001b[39mfrom\u001b[39;00m \u001b[39mplotly\u001b[39;00m\u001b[39m.\u001b[39;00m\u001b[39moptional_imports\u001b[39;00m \u001b[39mimport\u001b[39;00m get_module\n\u001b[0;32m     15\u001b[0m \u001b[39mfrom\u001b[39;00m \u001b[39mplotly\u001b[39;00m \u001b[39mimport\u001b[39;00m tools\n",
      "File \u001b[1;32mc:\\Users\\Sammy\\anaconda3\\envs\\env_dash_1_0\\lib\\site-packages\\plotly\\tools.py:19\u001b[0m, in \u001b[0;36m<module>\u001b[1;34m\u001b[0m\n\u001b[0;32m     16\u001b[0m \u001b[39mimport\u001b[39;00m \u001b[39mos\u001b[39;00m\n\u001b[0;32m     18\u001b[0m \u001b[39mfrom\u001b[39;00m \u001b[39mplotly\u001b[39;00m \u001b[39mimport\u001b[39;00m exceptions, optional_imports\n\u001b[1;32m---> 19\u001b[0m \u001b[39mfrom\u001b[39;00m \u001b[39mplotly\u001b[39;00m\u001b[39m.\u001b[39;00m\u001b[39mfiles\u001b[39;00m \u001b[39mimport\u001b[39;00m PLOTLY_DIR\n\u001b[0;32m     21\u001b[0m DEFAULT_PLOTLY_COLORS \u001b[39m=\u001b[39m [\n\u001b[0;32m     22\u001b[0m     \u001b[39m\"\u001b[39m\u001b[39mrgb(31, 119, 180)\u001b[39m\u001b[39m\"\u001b[39m,\n\u001b[0;32m     23\u001b[0m     \u001b[39m\"\u001b[39m\u001b[39mrgb(255, 127, 14)\u001b[39m\u001b[39m\"\u001b[39m,\n\u001b[1;32m   (...)\u001b[0m\n\u001b[0;32m     31\u001b[0m     \u001b[39m\"\u001b[39m\u001b[39mrgb(23, 190, 207)\u001b[39m\u001b[39m\"\u001b[39m,\n\u001b[0;32m     32\u001b[0m ]\n\u001b[0;32m     35\u001b[0m REQUIRED_GANTT_KEYS \u001b[39m=\u001b[39m [\u001b[39m\"\u001b[39m\u001b[39mTask\u001b[39m\u001b[39m\"\u001b[39m, \u001b[39m\"\u001b[39m\u001b[39mStart\u001b[39m\u001b[39m\"\u001b[39m, \u001b[39m\"\u001b[39m\u001b[39mFinish\u001b[39m\u001b[39m\"\u001b[39m]\n",
      "File \u001b[1;32mc:\\Users\\Sammy\\anaconda3\\envs\\env_dash_1_0\\lib\\site-packages\\plotly\\files.py:2\u001b[0m, in \u001b[0;36m<module>\u001b[1;34m\u001b[0m\n\u001b[0;32m      1\u001b[0m \u001b[39mfrom\u001b[39;00m \u001b[39m__future__\u001b[39;00m \u001b[39mimport\u001b[39;00m absolute_import\n\u001b[1;32m----> 2\u001b[0m \u001b[39mfrom\u001b[39;00m \u001b[39m_plotly_utils\u001b[39;00m\u001b[39m.\u001b[39;00m\u001b[39mfiles\u001b[39;00m \u001b[39mimport\u001b[39;00m \u001b[39m*\u001b[39m\n",
      "File \u001b[1;32m<frozen importlib._bootstrap>:1007\u001b[0m, in \u001b[0;36m_find_and_load\u001b[1;34m(name, import_)\u001b[0m\n",
      "File \u001b[1;32m<frozen importlib._bootstrap>:986\u001b[0m, in \u001b[0;36m_find_and_load_unlocked\u001b[1;34m(name, import_)\u001b[0m\n",
      "File \u001b[1;32m<frozen importlib._bootstrap>:680\u001b[0m, in \u001b[0;36m_load_unlocked\u001b[1;34m(spec)\u001b[0m\n",
      "File \u001b[1;32m<frozen importlib._bootstrap_external>:846\u001b[0m, in \u001b[0;36mexec_module\u001b[1;34m(self, module)\u001b[0m\n",
      "File \u001b[1;32m<frozen importlib._bootstrap_external>:941\u001b[0m, in \u001b[0;36mget_code\u001b[1;34m(self, fullname)\u001b[0m\n",
      "File \u001b[1;32m<frozen importlib._bootstrap_external>:1039\u001b[0m, in \u001b[0;36mget_data\u001b[1;34m(self, path)\u001b[0m\n",
      "\u001b[1;31mKeyboardInterrupt\u001b[0m: "
     ]
    }
   ],
   "source": [
    "px.line(data_frame=weekly_summary, x=weekly_summary.index, y='Temperature (C)')"
   ]
  },
  {
   "cell_type": "code",
   "execution_count": null,
   "metadata": {},
   "outputs": [],
   "source": []
  }
 ],
 "metadata": {
  "kernelspec": {
   "display_name": "Python 3.9.13 ('env_dash_1_0')",
   "language": "python",
   "name": "python3"
  },
  "language_info": {
   "codemirror_mode": {
    "name": "ipython",
    "version": 3
   },
   "file_extension": ".py",
   "mimetype": "text/x-python",
   "name": "python",
   "nbconvert_exporter": "python",
   "pygments_lexer": "ipython3",
   "version": "3.9.13"
  },
  "orig_nbformat": 4,
  "vscode": {
   "interpreter": {
    "hash": "488dbddf93dd95a5d4fa132b19c3dd34d11ced665dbd281d63d45c7f31d87906"
   }
  }
 },
 "nbformat": 4,
 "nbformat_minor": 2
}
